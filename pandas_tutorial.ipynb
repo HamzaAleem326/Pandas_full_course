{
 "cells": [
  {
   "cell_type": "code",
   "execution_count": 4,
   "id": "9051f572",
   "metadata": {},
   "outputs": [],
   "source": [
    "import pandas as pd"
   ]
  },
  {
   "cell_type": "code",
   "execution_count": 7,
   "id": "c1ca007c",
   "metadata": {},
   "outputs": [],
   "source": [
    "df = pd.DataFrame([[1, 2, 3, 4, 5], [6, 7, 8, 9, 10]], columns=['A', 'B', 'C', 'D', 'E'], index=['row1', 'row2'])"
   ]
  },
  {
   "cell_type": "code",
   "execution_count": null,
   "id": "1b3a45ab",
   "metadata": {},
   "outputs": [],
   "source": [
    "df"
   ]
  },
  {
   "cell_type": "code",
   "execution_count": null,
   "id": "1e2eb9aa",
   "metadata": {},
   "outputs": [],
   "source": [
    "df.describe()"
   ]
  },
  {
   "cell_type": "markdown",
   "id": "b1b3466e",
   "metadata": {},
   "source": [
    "#### loading dataframes from files"
   ]
  },
  {
   "cell_type": "code",
   "execution_count": 19,
   "id": "6d08862c",
   "metadata": {},
   "outputs": [],
   "source": [
    "coffee = pd.read_csv('./warmup-data/coffee.csv')"
   ]
  },
  {
   "cell_type": "code",
   "execution_count": null,
   "id": "c35a77a1",
   "metadata": {},
   "outputs": [],
   "source": [
    "coffee"
   ]
  },
  {
   "cell_type": "code",
   "execution_count": 21,
   "id": "194566b3",
   "metadata": {},
   "outputs": [],
   "source": [
    "results = pd.read_parquet('./data/results.parquet')"
   ]
  },
  {
   "cell_type": "code",
   "execution_count": null,
   "id": "148041ca",
   "metadata": {},
   "outputs": [],
   "source": [
    "results"
   ]
  },
  {
   "cell_type": "code",
   "execution_count": 26,
   "id": "8a25a32e",
   "metadata": {},
   "outputs": [],
   "source": [
    "olympics_data = pd.read_excel('./data/olympics-data.xlsx',sheet_name='results')"
   ]
  },
  {
   "cell_type": "code",
   "execution_count": null,
   "id": "0b489764",
   "metadata": {},
   "outputs": [],
   "source": [
    "olympics_data"
   ]
  },
  {
   "cell_type": "code",
   "execution_count": 68,
   "id": "ce44a56e",
   "metadata": {},
   "outputs": [],
   "source": [
    "coffee = pd.read_csv('./warmup-data/coffee.csv')\n",
    "results = pd.read_parquet('./data/results.parquet')\n",
    "bios = pd.read_csv('./data/bios.csv')"
   ]
  },
  {
   "cell_type": "markdown",
   "id": "8466390c",
   "metadata": {},
   "source": [
    "#### Importing data with pandas"
   ]
  },
  {
   "cell_type": "code",
   "execution_count": null,
   "id": "dca3f6f1",
   "metadata": {},
   "outputs": [],
   "source": [
    "coffee.head() # to access the first 5 rows\n",
    "coffee.tail() # to access the last 5 rows\n",
    "coffee.sample(5) # to access 5 random rows"
   ]
  },
  {
   "cell_type": "code",
   "execution_count": null,
   "id": "f69b0217",
   "metadata": {},
   "outputs": [],
   "source": [
    "# coffee.loc[rows, columns] # to access specific rows and columns\n",
    "coffee.loc[5:8, ['Day', 'Coffee Type']] # to access specific rows and"
   ]
  },
  {
   "cell_type": "code",
   "execution_count": null,
   "id": "047ab826",
   "metadata": {},
   "outputs": [],
   "source": [
    "# coffee.iloc[5:8, [0, 1]] # to access specific rows and columns by index\n",
    "coffee.iloc[5:8, [0, 1]] # to access specific rows and columns by index\n",
    "# iloc and loc is almost the same,\n",
    "# the only difference is that loc uses labels and iloc uses index positions"
   ]
  },
  {
   "cell_type": "code",
   "execution_count": 60,
   "id": "dbd1c4e0",
   "metadata": {},
   "outputs": [],
   "source": [
    "coffee.index = coffee['Day'] # to set the index of the DataFrame"
   ]
  },
  {
   "cell_type": "code",
   "execution_count": null,
   "id": "5c3d8a0c",
   "metadata": {},
   "outputs": [],
   "source": [
    "coffee.loc['Monday':'Wednesday', 'Units Sold'] # to access specific rows and columns by index labels"
   ]
  },
  {
   "cell_type": "markdown",
   "id": "4c922fb6",
   "metadata": {},
   "source": [
    "### Accessing data with pandas"
   ]
  },
  {
   "cell_type": "code",
   "execution_count": 67,
   "id": "f5178540",
   "metadata": {},
   "outputs": [],
   "source": [
    "coffee.loc[1:3, 'Units Sold'] = 10 # to set specific values in the DataFrame"
   ]
  },
  {
   "cell_type": "code",
   "execution_count": null,
   "id": "23d62509",
   "metadata": {},
   "outputs": [],
   "source": [
    "coffee.head()"
   ]
  },
  {
   "cell_type": "code",
   "execution_count": null,
   "id": "93dbb365",
   "metadata": {},
   "outputs": [],
   "source": [
    "coffee.iat[0,0] # to access a specific cell by index position\n",
    "coffee.at[0, 'Coffee Type'] # to access a specific cell by index label\n",
    "# difference between iat and at is that iat uses index positions and at uses index labels"
   ]
  },
  {
   "cell_type": "code",
   "execution_count": null,
   "id": "fc6710f4",
   "metadata": {},
   "outputs": [],
   "source": [
    "coffee.Day"
   ]
  },
  {
   "cell_type": "code",
   "execution_count": null,
   "id": "298af033",
   "metadata": {},
   "outputs": [],
   "source": [
    "coffee.sort_values(['Units Sold', 'Coffee Type'], ascending=[False, True]) # to sort the DataFrame by multiple columns"
   ]
  },
  {
   "cell_type": "markdown",
   "id": "306609f6",
   "metadata": {},
   "source": [
    "### Filtering data"
   ]
  },
  {
   "cell_type": "code",
   "execution_count": null,
   "id": "ed1f76aa",
   "metadata": {},
   "outputs": [],
   "source": [
    "bios.tail()"
   ]
  },
  {
   "cell_type": "code",
   "execution_count": null,
   "id": "0ad677dd",
   "metadata": {},
   "outputs": [],
   "source": [
    "bios[bios['height_cm']>215][['name', 'height_cm']] # to filter rows based on a condition"
   ]
  },
  {
   "cell_type": "code",
   "execution_count": null,
   "id": "9ee6ca6f",
   "metadata": {},
   "outputs": [],
   "source": [
    "# we can also set multiple conditions using & and | operators\n",
    "bios[(bios['height_cm'] > 215) & (bios['weight_kg'] > 100)][['name', 'height_cm', 'weight_kg']]"
   ]
  },
  {
   "cell_type": "code",
   "execution_count": null,
   "id": "4f0d5411",
   "metadata": {},
   "outputs": [],
   "source": [
    "bios[bios['name'].str.contains('Hamza|patrick')][['name', 'height_cm', 'weight_kg']]\n",
    "# we can also use str.contains() to filter rows based on a string condition"
   ]
  },
  {
   "cell_type": "code",
   "execution_count": null,
   "id": "c3523101",
   "metadata": {},
   "outputs": [],
   "source": [
    "# it is case-sensitive by default, but we can set the case parameter to False to make it case-insensitive\n",
    "bios[bios['name'].str.contains('Hamza|patrick', case=False)][['name', 'height_cm', 'weight_kg']]"
   ]
  },
  {
   "cell_type": "code",
   "execution_count": null,
   "id": "a027bea6",
   "metadata": {},
   "outputs": [],
   "source": [
    "bios[(bios['born_country'].isin(['USA', 'FRA', 'GBR'])) & (bios['name'].str.startswith('Keith'))][['name', 'born_country']]"
   ]
  },
  {
   "cell_type": "code",
   "execution_count": null,
   "id": "73eca404",
   "metadata": {},
   "outputs": [],
   "source": [
    "bios.query('born_country == \"PAK\"')[['name', 'born_country']] # to filter rows using query method"
   ]
  },
  {
   "cell_type": "markdown",
   "id": "fd9c420e",
   "metadata": {},
   "source": [
    "### Adding or removing coloums"
   ]
  },
  {
   "cell_type": "code",
   "execution_count": 41,
   "id": "0a42771e",
   "metadata": {},
   "outputs": [],
   "source": [
    "coffee['Price'] = 4.99 # to add a new column with a constant value"
   ]
  },
  {
   "cell_type": "code",
   "execution_count": null,
   "id": "1e7fe389",
   "metadata": {},
   "outputs": [],
   "source": [
    "coffee.head()"
   ]
  },
  {
   "cell_type": "code",
   "execution_count": 38,
   "id": "c415e57f",
   "metadata": {},
   "outputs": [],
   "source": [
    "import numpy as np"
   ]
  },
  {
   "cell_type": "code",
   "execution_count": 42,
   "id": "14769623",
   "metadata": {},
   "outputs": [],
   "source": [
    "coffee['new_price'] = np.where(coffee['Coffee Type']== 'Espresso', 5.99, 4.99) # to add a new column with a condition"
   ]
  },
  {
   "cell_type": "code",
   "execution_count": 44,
   "id": "974a21ac",
   "metadata": {},
   "outputs": [],
   "source": [
    "coffee.drop(columns=['Price'], inplace=True) # to remove a column from the DataFrame"
   ]
  },
  {
   "cell_type": "code",
   "execution_count": 46,
   "id": "7ef07a64",
   "metadata": {},
   "outputs": [],
   "source": [
    "coffee['revenue'] = coffee['Units Sold'] * coffee['new_price'] # to add a new column with a calculation"
   ]
  },
  {
   "cell_type": "code",
   "execution_count": null,
   "id": "474593d1",
   "metadata": {},
   "outputs": [],
   "source": [
    "coffee.head()"
   ]
  },
  {
   "cell_type": "code",
   "execution_count": 50,
   "id": "92857e30",
   "metadata": {},
   "outputs": [],
   "source": [
    "coffee = coffee.rename(columns={'new_price': 'Price', 'revenue': 'Revenue'}) # to rename columns in the DataFrame"
   ]
  },
  {
   "cell_type": "code",
   "execution_count": 53,
   "id": "7002e6b4",
   "metadata": {},
   "outputs": [],
   "source": [
    "bios_new = bios.copy() # to create a copy of the DataFrame"
   ]
  },
  {
   "cell_type": "code",
   "execution_count": null,
   "id": "14298a60",
   "metadata": {},
   "outputs": [],
   "source": [
    "bios_new['first_name'] = bios_new['name'].str.split(' ').str[0] # to add a new column with the first name"
   ]
  },
  {
   "cell_type": "code",
   "execution_count": null,
   "id": "5d5504f8",
   "metadata": {},
   "outputs": [],
   "source": [
    "bios_new.query('first_name == \"Hamza\"')[['name', 'first_name']] # to filter rows based on the new column"
   ]
  },
  {
   "cell_type": "code",
   "execution_count": 59,
   "id": "37e450b6",
   "metadata": {},
   "outputs": [],
   "source": [
    "bios_new['born_datetime'] = pd.to_datetime(bios_new['born_date'])\n",
    "bios_new['born_year'] = bios_new['born_datetime'].dt.year # to extract the year from the datetime column"
   ]
  },
  {
   "cell_type": "code",
   "execution_count": null,
   "id": "dd7292ad",
   "metadata": {},
   "outputs": [],
   "source": [
    "bios_new[['name','born_year']]"
   ]
  },
  {
   "cell_type": "code",
   "execution_count": 61,
   "id": "b6e31089",
   "metadata": {},
   "outputs": [],
   "source": [
    "bios_new.to_csv('./data/bios_new.csv', index=False) # to save the DataFrame to a CSV file"
   ]
  },
  {
   "cell_type": "code",
   "execution_count": 71,
   "id": "ba8e9dfe",
   "metadata": {},
   "outputs": [
    {
     "data": {
      "text/html": [
       "<div>\n",
       "<style scoped>\n",
       "    .dataframe tbody tr th:only-of-type {\n",
       "        vertical-align: middle;\n",
       "    }\n",
       "\n",
       "    .dataframe tbody tr th {\n",
       "        vertical-align: top;\n",
       "    }\n",
       "\n",
       "    .dataframe thead th {\n",
       "        text-align: right;\n",
       "    }\n",
       "</style>\n",
       "<table border=\"1\" class=\"dataframe\">\n",
       "  <thead>\n",
       "    <tr style=\"text-align: right;\">\n",
       "      <th></th>\n",
       "      <th>name</th>\n",
       "      <th>height_cm</th>\n",
       "      <th>height_category</th>\n",
       "    </tr>\n",
       "  </thead>\n",
       "  <tbody>\n",
       "    <tr>\n",
       "      <th>0</th>\n",
       "      <td>Jean-François Blanchy</td>\n",
       "      <td>NaN</td>\n",
       "      <td>Short</td>\n",
       "    </tr>\n",
       "    <tr>\n",
       "      <th>1</th>\n",
       "      <td>Arnaud Boetsch</td>\n",
       "      <td>183.0</td>\n",
       "      <td>Tall</td>\n",
       "    </tr>\n",
       "    <tr>\n",
       "      <th>2</th>\n",
       "      <td>Jean Borotra</td>\n",
       "      <td>183.0</td>\n",
       "      <td>Tall</td>\n",
       "    </tr>\n",
       "    <tr>\n",
       "      <th>3</th>\n",
       "      <td>Jacques Brugnon</td>\n",
       "      <td>168.0</td>\n",
       "      <td>Short</td>\n",
       "    </tr>\n",
       "    <tr>\n",
       "      <th>4</th>\n",
       "      <td>Albert Canet</td>\n",
       "      <td>NaN</td>\n",
       "      <td>Short</td>\n",
       "    </tr>\n",
       "  </tbody>\n",
       "</table>\n",
       "</div>"
      ],
      "text/plain": [
       "                    name  height_cm height_category\n",
       "0  Jean-François Blanchy        NaN           Short\n",
       "1         Arnaud Boetsch      183.0            Tall\n",
       "2           Jean Borotra      183.0            Tall\n",
       "3        Jacques Brugnon      168.0           Short\n",
       "4           Albert Canet        NaN           Short"
      ]
     },
     "execution_count": 71,
     "metadata": {},
     "output_type": "execute_result"
    }
   ],
   "source": [
    "bios['height_category'] = bios['height_cm'].apply(lambda x: 'Tall' if x > 170 else 'Short') # to add a new column with a condition using apply\n",
    "bios[['name', 'height_cm', 'height_category']].head() # to access the new column"
   ]
  },
  {
   "cell_type": "code",
   "execution_count": 69,
   "id": "d8b69ff0",
   "metadata": {},
   "outputs": [],
   "source": [
    "def categorize_athelete(row):\n",
    "    if row['weight_kg'] > 100:\n",
    "        return 'Heavyweight'\n",
    "    elif row['weight_kg'] < 50:\n",
    "        return 'Lightweight'\n",
    "    else:\n",
    "        return 'Middleweight'\n",
    "    \n",
    "bios['Category'] = bios.apply(categorize_athelete, axis=1) # to add a new column with a function using apply"
   ]
  },
  {
   "cell_type": "markdown",
   "id": "9d10a496",
   "metadata": {},
   "source": [
    "### Merging and concatinating data"
   ]
  },
  {
   "cell_type": "code",
   "execution_count": null,
   "id": "c46fb29e",
   "metadata": {},
   "outputs": [],
   "source": []
  }
 ],
 "metadata": {
  "kernelspec": {
   "display_name": "Python 3",
   "language": "python",
   "name": "python3"
  },
  "language_info": {
   "codemirror_mode": {
    "name": "ipython",
    "version": 3
   },
   "file_extension": ".py",
   "mimetype": "text/x-python",
   "name": "python",
   "nbconvert_exporter": "python",
   "pygments_lexer": "ipython3",
   "version": "3.13.5"
  }
 },
 "nbformat": 4,
 "nbformat_minor": 5
}
